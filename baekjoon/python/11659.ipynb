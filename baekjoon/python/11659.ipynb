{
 "cells": [
  {
   "cell_type": "code",
   "execution_count": null,
   "metadata": {},
   "outputs": [],
   "source": [
    "import sys\n",
    "input = sys.stdin.readline\n",
    "start, end = map(int, input().split())\n",
    "numbers = list(map(int, input().split()))\n",
    "dp = [0 for i in range(0, len(numbers))]\n",
    "dp[1] = numbers[0]\n",
    "for i in range(2, len(numbers)):\n",
    "    dp[i] = numbers[i - 1] + dp[i - 1]\n",
    "    print(dp[i])\n",
    "\n",
    "\n"
   ]
  }
 ],
 "metadata": {
  "kernelspec": {
   "display_name": "Python 3",
   "language": "python",
   "name": "python3"
  },
  "language_info": {
   "codemirror_mode": {
    "name": "ipython",
    "version": 3
   },
   "file_extension": ".py",
   "mimetype": "text/x-python",
   "name": "python",
   "nbconvert_exporter": "python",
   "pygments_lexer": "ipython3",
   "version": "3.11.9"
  }
 },
 "nbformat": 4,
 "nbformat_minor": 2
}
