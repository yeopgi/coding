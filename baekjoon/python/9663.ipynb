{
 "cells": [
  {
   "cell_type": "code",
   "execution_count": null,
   "metadata": {},
   "outputs": [],
   "source": [
    "is_used1 = [0 for i in range(0, 8)]\n",
    "is_used2 = [0 for i in range(0, 8)]\n",
    "is_used3 = [0 for i in range(0, 8 * 2)]\n",
    "ans = 0\n",
    "\n",
    "def Run(curr):\n",
    "    global ans\n",
    "    if curr == 8:\n",
    "        ans += 1\n",
    "\n",
    "\n",
    "\n"
   ]
  }
 ],
 "metadata": {
  "language_info": {
   "name": "python"
  }
 },
 "nbformat": 4,
 "nbformat_minor": 2
}
